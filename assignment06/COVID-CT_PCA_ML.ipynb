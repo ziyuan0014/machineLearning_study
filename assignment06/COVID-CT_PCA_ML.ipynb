{
 "cells": [
  {
   "cell_type": "code",
   "execution_count": 1,
   "id": "64389857",
   "metadata": {},
   "outputs": [],
   "source": [
    "from imutils import paths\n",
    "import matplotlib.pyplot as plt\n",
    "import numpy as np\n",
    "import cv2\n",
    "import os"
   ]
  },
  {
   "cell_type": "code",
   "execution_count": 2,
   "id": "60d1b511",
   "metadata": {},
   "outputs": [],
   "source": [
    "from sklearn.metrics import accuracy_score,roc_auc_score\n",
    "from sklearn.metrics import precision_score, recall_score, f1_score\n",
    "from sklearn import preprocessing\n",
    "import warnings\n",
    "warnings.filterwarnings('ignore')"
   ]
  },
  {
   "cell_type": "code",
   "execution_count": 3,
   "id": "6db916ef",
   "metadata": {},
   "outputs": [],
   "source": [
    "def getCovidData(img_COVID_paths,img_NonCOVID_paths):\n",
    "    print(\"[INFO]  start loading images...\")\n",
    "    data = []\n",
    "    labels = []\n",
    "    for imagePath in img_COVID_paths:\n",
    "        label = imagePath.split(os.path.sep)[-2]\n",
    "        image = cv2.imread(imagePath) \n",
    "        image = cv2.cvtColor(image, cv2.COLOR_BGR2GRAY)\n",
    "        image = cv2.resize(image, (224, 224))\n",
    "        data.append(image)\n",
    "        labels.append(label)\n",
    "\n",
    "    for imagePath in img_NonCOVID_paths:\n",
    "        label = imagePath.split(os.path.sep)[-2]\n",
    "        image = cv2.imread(imagePath) ## all the images are stored as a numpy array\n",
    "        image = cv2.cvtColor(image, cv2.COLOR_BGR2GRAY)\n",
    "        image = np.array(cv2.resize(image, (224, 224)))\n",
    "        data.append(image)\n",
    "        labels.append(label)\n",
    "\n",
    "    # trans the string to int\n",
    "    lb = preprocessing.LabelBinarizer() \n",
    "    labels_num = lb.fit_transform(labels).reshape(-1)\n",
    "    # trans the img data\n",
    "    data_list = []\n",
    "    for image in data:\n",
    "        #image_data = image.reshape(image.shape[0]*image.shape[1], )\n",
    "        image_data = image.flatten()\n",
    "        data_list.append(image_data)\n",
    "    data_np = np.array(data_list)\n",
    "    print(\"loading images success!\")\n",
    "    return data_np,labels,labels_num"
   ]
  },
  {
   "cell_type": "code",
   "execution_count": 4,
   "id": "27cfee25",
   "metadata": {},
   "outputs": [
    {
     "name": "stdout",
     "output_type": "stream",
     "text": [
      "[INFO]  start loading images...\n",
      "loading images success!\n"
     ]
    }
   ],
   "source": [
    "img_path = 'Images-processed'\n",
    "img_COVID_paths = list(paths.list_images(os.path.join(img_path,'CT_COVID')))\n",
    "img_NonCOVID_paths = list(paths.list_images(os.path.join(img_path,'CT_NonCOVID')))\n",
    "data,labels,labels_num = getCovidData(img_COVID_paths,img_NonCOVID_paths)"
   ]
  },
  {
   "cell_type": "code",
   "execution_count": 5,
   "id": "c0db8d53",
   "metadata": {},
   "outputs": [],
   "source": [
    "from sklearn.model_selection import train_test_split\n",
    "X_train, X_test, y_train, y_test = train_test_split(data, labels_num, test_size=0.2)"
   ]
  },
  {
   "cell_type": "code",
   "execution_count": 6,
   "id": "cf81a06c",
   "metadata": {},
   "outputs": [
    {
     "data": {
      "text/plain": [
       "50176"
      ]
     },
     "execution_count": 6,
     "metadata": {},
     "output_type": "execute_result"
    }
   ],
   "source": [
    "224*224"
   ]
  },
  {
   "cell_type": "code",
   "execution_count": 9,
   "id": "7098bab9",
   "metadata": {},
   "outputs": [
    {
     "name": "stdout",
     "output_type": "stream",
     "text": [
      "Extracting the top 150 features from 596 covid dataset\n"
     ]
    }
   ],
   "source": [
    "# use the unsupervised method:PCA  http://scikit-learn.org.cn/view/610.html\n",
    "from sklearn.decomposition import PCA\n",
    "# 建立PCA模型，使用k个主要成分\n",
    "n_components = 150  \n",
    "print(\"Extracting the top %d features from %d covid dataset\" % (n_components, X_train.shape[0]))\n",
    "pca = PCA(n_components=n_components, svd_solver='randomized', whiten=True).fit(X_train)\n",
    "\n",
    "X_train_pca = pca.transform(X_train)\n",
    "X_test_pca = pca.transform(X_test)"
   ]
  },
  {
   "cell_type": "code",
   "execution_count": 7,
   "id": "34bb4732",
   "metadata": {},
   "outputs": [
    {
     "data": {
      "text/plain": [
       "50176"
      ]
     },
     "execution_count": 7,
     "metadata": {},
     "output_type": "execute_result"
    }
   ],
   "source": [
    "len(X_train[0])"
   ]
  },
  {
   "cell_type": "code",
   "execution_count": 10,
   "id": "f26e8243",
   "metadata": {},
   "outputs": [
    {
     "data": {
      "text/plain": [
       "150"
      ]
     },
     "execution_count": 10,
     "metadata": {},
     "output_type": "execute_result"
    }
   ],
   "source": [
    "len(X_train_pca[0])"
   ]
  },
  {
   "cell_type": "code",
   "execution_count": 11,
   "id": "e4e3969a",
   "metadata": {},
   "outputs": [
    {
     "name": "stdout",
     "output_type": "stream",
     "text": [
      "SVM :recall: 0.8025, precision: 0.8025,F1: 0.8025, accuracy: 0.7867, AUC: 0.7853\n"
     ]
    }
   ],
   "source": [
    "from sklearn import svm\n",
    "svm_clf = svm.SVC().fit(X_train, y_train)\n",
    "svm_acc = accuracy_score(y_test,svm_clf.predict(X_test))\n",
    "svm_auc = roc_auc_score(y_test,svm_clf.predict(X_test))\n",
    "svm_precision = precision_score(y_test,svm_clf.predict(X_test))\n",
    "svm_recall = recall_score(y_test,svm_clf.predict(X_test))\n",
    "svm_f1 = recall_score(y_test,svm_clf.predict(X_test))\n",
    "print('SVM :recall: {:.4f}, precision: {:.4f},F1: {:.4f}, accuracy: {:.4f}, AUC: {:.4f}'.format(\n",
    "        svm_recall, svm_precision, svm_f1, svm_acc, svm_auc))"
   ]
  },
  {
   "cell_type": "code",
   "execution_count": 12,
   "id": "8bcbc961",
   "metadata": {},
   "outputs": [
    {
     "name": "stdout",
     "output_type": "stream",
     "text": [
      "PCA -> SVM :recall: 0.9012, precision: 0.7087,F1: 0.9012, accuracy: 0.7467, AUC: 0.7332\n"
     ]
    }
   ],
   "source": [
    "svm_pac_clf = svm.SVC().fit(X_train_pca, y_train)\n",
    "svm_acc = accuracy_score(y_test,svm_pac_clf.predict(X_test_pca))\n",
    "svm_auc = roc_auc_score(y_test,svm_pac_clf.predict(X_test_pca))\n",
    "svm_precision = precision_score(y_test,svm_pac_clf.predict(X_test_pca))\n",
    "svm_recall = recall_score(y_test,svm_pac_clf.predict(X_test_pca))\n",
    "svm_f1 = recall_score(y_test,svm_pac_clf.predict(X_test_pca))\n",
    "print('PCA -> SVM :recall: {:.4f}, precision: {:.4f},F1: {:.4f}, accuracy: {:.4f}, AUC: {:.4f}'.format(\n",
    "        svm_recall, svm_precision, svm_f1, svm_acc, svm_auc))"
   ]
  },
  {
   "cell_type": "code",
   "execution_count": null,
   "id": "e0e9fca0",
   "metadata": {},
   "outputs": [],
   "source": []
  },
  {
   "cell_type": "code",
   "execution_count": 13,
   "id": "f3786243",
   "metadata": {},
   "outputs": [
    {
     "name": "stdout",
     "output_type": "stream",
     "text": [
      "LogisticRegression :recall: 0.7901, precision: 0.7273,F1: 0.7901, accuracy: 0.7267, AUC: 0.7211\n"
     ]
    }
   ],
   "source": [
    "from sklearn.linear_model import LogisticRegression\n",
    "lg_clf = LogisticRegression().fit(X_train, y_train)\n",
    "lg_acc = accuracy_score(y_test,lg_clf.predict(X_test))\n",
    "lg_auc = roc_auc_score(y_test,lg_clf.predict(X_test))\n",
    "lg_precision = precision_score(y_test,lg_clf.predict(X_test))\n",
    "lg_recall = recall_score(y_test,lg_clf.predict(X_test))\n",
    "lg_f1 = recall_score(y_test,lg_clf.predict(X_test))\n",
    "print('LogisticRegression :recall: {:.4f}, precision: {:.4f},F1: {:.4f}, accuracy: {:.4f}, AUC: {:.4f}'.format(\n",
    "        lg_recall, lg_precision, lg_f1, lg_acc, lg_auc))"
   ]
  },
  {
   "cell_type": "code",
   "execution_count": 14,
   "id": "22326853",
   "metadata": {},
   "outputs": [
    {
     "name": "stdout",
     "output_type": "stream",
     "text": [
      "LogisticRegression :recall: 0.7531, precision: 0.7262,F1: 0.7531, accuracy: 0.7133, AUC: 0.7099\n"
     ]
    }
   ],
   "source": [
    "lg_pca_clf = LogisticRegression().fit(X_train_pca, y_train)\n",
    "lg_acc = accuracy_score(y_test,lg_pca_clf.predict(X_test_pca))\n",
    "lg_auc = roc_auc_score(y_test,lg_pca_clf.predict(X_test_pca))\n",
    "lg_precision = precision_score(y_test,lg_pca_clf.predict(X_test_pca))\n",
    "lg_recall = recall_score(y_test,lg_pca_clf.predict(X_test_pca))\n",
    "lg_f1 = recall_score(y_test,lg_pca_clf.predict(X_test_pca))\n",
    "print('LogisticRegression :recall: {:.4f}, precision: {:.4f},F1: {:.4f}, accuracy: {:.4f}, AUC: {:.4f}'.format(\n",
    "        lg_recall, lg_precision, lg_f1, lg_acc, lg_auc))"
   ]
  },
  {
   "cell_type": "code",
   "execution_count": null,
   "id": "8f5b7136",
   "metadata": {},
   "outputs": [],
   "source": []
  },
  {
   "cell_type": "code",
   "execution_count": 15,
   "id": "4b700cab",
   "metadata": {},
   "outputs": [
    {
     "name": "stdout",
     "output_type": "stream",
     "text": [
      "RandomForestClassifier :recall: 0.8025, precision: 0.8333,F1: 0.8025, accuracy: 0.8067, AUC: 0.8070\n"
     ]
    }
   ],
   "source": [
    "from sklearn.ensemble import RandomForestClassifier \n",
    "rftree_clf = RandomForestClassifier().fit(X_train, y_train)\n",
    "rftree_acc = accuracy_score(y_test,rftree_clf.predict(X_test))\n",
    "rftree_auc = roc_auc_score(y_test,rftree_clf.predict(X_test))\n",
    "rftree_precision = precision_score(y_test,rftree_clf.predict(X_test))\n",
    "rftree_recall = recall_score(y_test,rftree_clf.predict(X_test))\n",
    "rftree_f1 = recall_score(y_test,rftree_clf.predict(X_test))\n",
    "print('RandomForestClassifier :recall: {:.4f}, precision: {:.4f},F1: {:.4f}, accuracy: {:.4f}, AUC: {:.4f}'.format(\n",
    "        rftree_recall, rftree_precision, rftree_f1, rftree_acc, rftree_auc))"
   ]
  },
  {
   "cell_type": "code",
   "execution_count": 17,
   "id": "f7a1256e",
   "metadata": {},
   "outputs": [
    {
     "name": "stdout",
     "output_type": "stream",
     "text": [
      "PCA -> RandomForestClassifier :recall: 0.8519, precision: 0.7188,F1: 0.8519, accuracy: 0.7400, AUC: 0.7303\n"
     ]
    }
   ],
   "source": [
    "rftree_pca_clf = RandomForestClassifier().fit(X_train_pca, y_train)\n",
    "rftree_acc = accuracy_score(y_test,rftree_pca_clf.predict(X_test_pca))\n",
    "rftree_auc = roc_auc_score(y_test,rftree_pca_clf.predict(X_test_pca))\n",
    "rftree_precision = precision_score(y_test,rftree_pca_clf.predict(X_test_pca))\n",
    "rftree_recall = recall_score(y_test,rftree_pca_clf.predict(X_test_pca))\n",
    "rftree_f1 = recall_score(y_test,rftree_pca_clf.predict(X_test_pca))\n",
    "print('PCA -> RandomForestClassifier :recall: {:.4f}, precision: {:.4f},F1: {:.4f}, accuracy: {:.4f}, AUC: {:.4f}'.format(\n",
    "        rftree_recall, rftree_precision, rftree_f1, rftree_acc, rftree_auc))"
   ]
  },
  {
   "cell_type": "code",
   "execution_count": null,
   "id": "c8275c38",
   "metadata": {},
   "outputs": [],
   "source": []
  }
 ],
 "metadata": {
  "interpreter": {
   "hash": "5df93a201aec2a40ddcf5bdd4aea2dd96a8ec5ac327428e7792dcf1b49e5b15c"
  },
  "kernelspec": {
   "display_name": "Python 3",
   "language": "python",
   "name": "python3"
  },
  "language_info": {
   "codemirror_mode": {
    "name": "ipython",
    "version": 3
   },
   "file_extension": ".py",
   "mimetype": "text/x-python",
   "name": "python",
   "nbconvert_exporter": "python",
   "pygments_lexer": "ipython3",
   "version": "3.6.8"
  }
 },
 "nbformat": 4,
 "nbformat_minor": 5
}
