{
 "cells": [
  {
   "cell_type": "code",
   "execution_count": 1,
   "id": "64389857",
   "metadata": {},
   "outputs": [],
   "source": [
    "from imutils import paths\n",
    "import matplotlib.pyplot as plt\n",
    "import numpy as np\n",
    "import argparse\n",
    "import cv2\n",
    "import os"
   ]
  },
  {
   "cell_type": "code",
   "execution_count": 2,
   "id": "60d1b511",
   "metadata": {},
   "outputs": [],
   "source": [
    "from sklearn.metrics import roc_auc_score\n",
    "import warnings\n",
    "warnings.filterwarnings('ignore')"
   ]
  },
  {
   "cell_type": "code",
   "execution_count": 3,
   "id": "6b77f0de",
   "metadata": {},
   "outputs": [
    {
     "name": "stdout",
     "output_type": "stream",
     "text": [
      "[INFO] loading images...\n"
     ]
    }
   ],
   "source": [
    "print(\"[INFO] loading images...\")\n",
    "img_path = 'Images-processed'\n",
    "img_COVID_paths = list(paths.list_images(os.path.join(img_path,'CT_COVID')))\n",
    "img_NonCOVID_paths = list(paths.list_images(os.path.join(img_path,'CT_NonCOVID')))"
   ]
  },
  {
   "cell_type": "code",
   "execution_count": 4,
   "id": "fb7642ee",
   "metadata": {},
   "outputs": [
    {
     "data": {
      "text/plain": [
       "'Images-processed\\\\CT_COVID\\\\2019-novel-Coronavirus-severe-adult-respiratory-dist_2020_International-Jour-p3-89%0.png'"
      ]
     },
     "execution_count": 4,
     "metadata": {},
     "output_type": "execute_result"
    }
   ],
   "source": [
    "img_COVID_paths[0]"
   ]
  },
  {
   "cell_type": "code",
   "execution_count": 3,
   "id": "6db916ef",
   "metadata": {},
   "outputs": [
    {
     "name": "stdout",
     "output_type": "stream",
     "text": [
      "[INFO] loading images...\n"
     ]
    }
   ],
   "source": [
    "data = []\n",
    "labels = []\n",
    "# deal with the img_COVID\n",
    "for imagePath in img_COVID_paths:\n",
    "    # extract the class label from the filename\n",
    "    label = imagePath.split(os.path.sep)[-2]\n",
    "    # load the image, swap color channels, and resize it to be a fixed\n",
    "    # 224x224 pixels while ignoring aspect ratio\n",
    "    image = cv2.imread(imagePath) ## all the images are stored as a numpy array\n",
    "    image = cv2.cvtColor(image, cv2.COLOR_BGR2GRAY)\n",
    "    image = cv2.resize(image, (224, 224))\n",
    "    # update the data and labels lists, respectively\n",
    "    data.append(image)\n",
    "    labels.append(label)\n",
    "# deal with the img_NonCOVID\n",
    "for imagePath in img_NonCOVID_paths:\n",
    "    # extract the class label from the filename\n",
    "    label = imagePath.split(os.path.sep)[-2]\n",
    "    # load the image, swap color channels, and resize it to be a fixed\n",
    "    # 224x224 pixels while ignoring aspect ratio\n",
    "    image = cv2.imread(imagePath) ## all the images are stored as a numpy array\n",
    "    image = cv2.cvtColor(image, cv2.COLOR_BGR2GRAY)\n",
    "    image = np.array(cv2.resize(image, (224, 224)))\n",
    "    #image_data = image.reshape(image.shape[0]*image.shape[1], )\n",
    "    #image_data = image.flatten()\n",
    "    #image_data = image.reshape(-1)\n",
    "    # update the data and labels lists, respectively\n",
    "    data.append(image)\n",
    "    labels.append(label)"
   ]
  },
  {
   "cell_type": "code",
   "execution_count": 4,
   "id": "7fbc0924",
   "metadata": {},
   "outputs": [
    {
     "data": {
      "text/plain": [
       "array([0, 0, 0, 0, 0, 0, 0, 0, 0, 0, 0, 0, 0, 0, 0, 0, 0, 0, 0, 0, 0, 0,\n",
       "       0, 0, 0, 0, 0, 0, 0, 0, 0, 0, 0, 0, 0, 0, 0, 0, 0, 0, 0, 0, 0, 0,\n",
       "       0, 0, 0, 0, 0, 0, 0, 0, 0, 0, 0, 0, 0, 0, 0, 0, 0, 0, 0, 0, 0, 0,\n",
       "       0, 0, 0, 0, 0, 0, 0, 0, 0, 0, 0, 0, 0, 0, 0, 0, 0, 0, 0, 0, 0, 0,\n",
       "       0, 0, 0, 0, 0, 0, 0, 0, 0, 0, 0, 0, 0, 0, 0, 0, 0, 0, 0, 0, 0, 0,\n",
       "       0, 0, 0, 0, 0, 0, 0, 0, 0, 0, 0, 0, 0, 0, 0, 0, 0, 0, 0, 0, 0, 0,\n",
       "       0, 0, 0, 0, 0, 0, 0, 0, 0, 0, 0, 0, 0, 0, 0, 0, 0, 0, 0, 0, 0, 0,\n",
       "       0, 0, 0, 0, 0, 0, 0, 0, 0, 0, 0, 0, 0, 0, 0, 0, 0, 0, 0, 0, 0, 0,\n",
       "       0, 0, 0, 0, 0, 0, 0, 0, 0, 0, 0, 0, 0, 0, 0, 0, 0, 0, 0, 0, 0, 0,\n",
       "       0, 0, 0, 0, 0, 0, 0, 0, 0, 0, 0, 0, 0, 0, 0, 0, 0, 0, 0, 0, 0, 0,\n",
       "       0, 0, 0, 0, 0, 0, 0, 0, 0, 0, 0, 0, 0, 0, 0, 0, 0, 0, 0, 0, 0, 0,\n",
       "       0, 0, 0, 0, 0, 0, 0, 0, 0, 0, 0, 0, 0, 0, 0, 0, 0, 0, 0, 0, 0, 0,\n",
       "       0, 0, 0, 0, 0, 0, 0, 0, 0, 0, 0, 0, 0, 0, 0, 0, 0, 0, 0, 0, 0, 0,\n",
       "       0, 0, 0, 0, 0, 0, 0, 0, 0, 0, 0, 0, 0, 0, 0, 0, 0, 0, 0, 0, 0, 0,\n",
       "       0, 0, 0, 0, 0, 0, 0, 0, 0, 0, 0, 0, 0, 0, 0, 0, 0, 0, 0, 0, 0, 0,\n",
       "       0, 0, 0, 0, 0, 0, 0, 0, 0, 0, 0, 0, 0, 0, 0, 0, 0, 0, 0, 1, 1, 1,\n",
       "       1, 1, 1, 1, 1, 1, 1, 1, 1, 1, 1, 1, 1, 1, 1, 1, 1, 1, 1, 1, 1, 1,\n",
       "       1, 1, 1, 1, 1, 1, 1, 1, 1, 1, 1, 1, 1, 1, 1, 1, 1, 1, 1, 1, 1, 1,\n",
       "       1, 1, 1, 1, 1, 1, 1, 1, 1, 1, 1, 1, 1, 1, 1, 1, 1, 1, 1, 1, 1, 1,\n",
       "       1, 1, 1, 1, 1, 1, 1, 1, 1, 1, 1, 1, 1, 1, 1, 1, 1, 1, 1, 1, 1, 1,\n",
       "       1, 1, 1, 1, 1, 1, 1, 1, 1, 1, 1, 1, 1, 1, 1, 1, 1, 1, 1, 1, 1, 1,\n",
       "       1, 1, 1, 1, 1, 1, 1, 1, 1, 1, 1, 1, 1, 1, 1, 1, 1, 1, 1, 1, 1, 1,\n",
       "       1, 1, 1, 1, 1, 1, 1, 1, 1, 1, 1, 1, 1, 1, 1, 1, 1, 1, 1, 1, 1, 1,\n",
       "       1, 1, 1, 1, 1, 1, 1, 1, 1, 1, 1, 1, 1, 1, 1, 1, 1, 1, 1, 1, 1, 1,\n",
       "       1, 1, 1, 1, 1, 1, 1, 1, 1, 1, 1, 1, 1, 1, 1, 1, 1, 1, 1, 1, 1, 1,\n",
       "       1, 1, 1, 1, 1, 1, 1, 1, 1, 1, 1, 1, 1, 1, 1, 1, 1, 1, 1, 1, 1, 1,\n",
       "       1, 1, 1, 1, 1, 1, 1, 1, 1, 1, 1, 1, 1, 1, 1, 1, 1, 1, 1, 1, 1, 1,\n",
       "       1, 1, 1, 1, 1, 1, 1, 1, 1, 1, 1, 1, 1, 1, 1, 1, 1, 1, 1, 1, 1, 1,\n",
       "       1, 1, 1, 1, 1, 1, 1, 1, 1, 1, 1, 1, 1, 1, 1, 1, 1, 1, 1, 1, 1, 1,\n",
       "       1, 1, 1, 1, 1, 1, 1, 1, 1, 1, 1, 1, 1, 1, 1, 1, 1, 1, 1, 1, 1, 1,\n",
       "       1, 1, 1, 1, 1, 1, 1, 1, 1, 1, 1, 1, 1, 1, 1, 1, 1, 1, 1, 1, 1, 1,\n",
       "       1, 1, 1, 1, 1, 1, 1, 1, 1, 1, 1, 1, 1, 1, 1, 1, 1, 1, 1, 1, 1, 1,\n",
       "       1, 1, 1, 1, 1, 1, 1, 1, 1, 1, 1, 1, 1, 1, 1, 1, 1, 1, 1, 1, 1, 1,\n",
       "       1, 1, 1, 1, 1, 1, 1, 1, 1, 1, 1, 1, 1, 1, 1, 1, 1, 1, 1, 1])"
      ]
     },
     "execution_count": 4,
     "metadata": {},
     "output_type": "execute_result"
    }
   ],
   "source": [
    "from sklearn import preprocessing\n",
    "lb = preprocessing.LabelBinarizer() \n",
    "labels_num = lb.fit_transform(labels).reshape(-1)\n",
    "# re_label = lb.inverse_transform(Y) # 还原label\n",
    "labels_num"
   ]
  },
  {
   "cell_type": "code",
   "execution_count": 5,
   "id": "d02af92f",
   "metadata": {},
   "outputs": [],
   "source": [
    "data_list = []\n",
    "for image in data:\n",
    "    #image_data = image.reshape(image.shape[0]*image.shape[1], )\n",
    "    image_data = image.flatten()\n",
    "    data_list.append(image_data)"
   ]
  },
  {
   "cell_type": "code",
   "execution_count": 6,
   "id": "8bbb35de",
   "metadata": {},
   "outputs": [
    {
     "data": {
      "text/plain": [
       "(50176,)"
      ]
     },
     "execution_count": 6,
     "metadata": {},
     "output_type": "execute_result"
    }
   ],
   "source": [
    "data_list[0].shape"
   ]
  },
  {
   "cell_type": "code",
   "execution_count": 7,
   "id": "d8c05a3d",
   "metadata": {},
   "outputs": [],
   "source": [
    "data_np = np.array(data_list)"
   ]
  },
  {
   "cell_type": "code",
   "execution_count": 8,
   "id": "625fd5fb",
   "metadata": {},
   "outputs": [
    {
     "data": {
      "text/plain": [
       "(50176,)"
      ]
     },
     "execution_count": 8,
     "metadata": {},
     "output_type": "execute_result"
    }
   ],
   "source": [
    "data_np[0].shape"
   ]
  },
  {
   "cell_type": "code",
   "execution_count": 9,
   "id": "c0db8d53",
   "metadata": {},
   "outputs": [],
   "source": [
    "from sklearn.model_selection import train_test_split\n",
    "X_train, X_test, y_train, y_test = train_test_split(data_np, labels_num, test_size=0.2)"
   ]
  },
  {
   "cell_type": "code",
   "execution_count": 11,
   "id": "9ab295ac",
   "metadata": {},
   "outputs": [],
   "source": [
    "from sklearn.metrics import accuracy_score,roc_auc_score\n",
    "from sklearn.metrics import precision_score, recall_score, f1_score"
   ]
  },
  {
   "cell_type": "code",
   "execution_count": 10,
   "id": "ba8699d9",
   "metadata": {},
   "outputs": [],
   "source": [
    "from sklearn import svm\n",
    "svm_clf = svm.SVC().fit(X_train, y_train)"
   ]
  },
  {
   "cell_type": "code",
   "execution_count": 13,
   "id": "7d731ba7",
   "metadata": {},
   "outputs": [
    {
     "name": "stdout",
     "output_type": "stream",
     "text": [
      "recall: 0.8125, precision: 0.7065,F1: 0.8125, accuracy: 0.7200, AUC: 0.7134\n"
     ]
    }
   ],
   "source": [
    "svm_acc = accuracy_score(y_test,svm_clf.predict(X_test))\n",
    "svm_auc = roc_auc_score(y_test,svm_clf.predict(X_test))\n",
    "svm_precision = precision_score(y_test,svm_clf.predict(X_test))\n",
    "svm_recall = recall_score(y_test,svm_clf.predict(X_test))\n",
    "svm_f1 = recall_score(y_test,svm_clf.predict(X_test))\n",
    "print('SVM :recall: {:.4f}, precision: {:.4f},F1: {:.4f}, accuracy: {:.4f}, AUC: {:.4f}'.format(\n",
    "        svm_recall, svm_precision, svm_f1, svm_acc, svm_auc))"
   ]
  },
  {
   "cell_type": "code",
   "execution_count": 14,
   "id": "392f2ef8",
   "metadata": {},
   "outputs": [],
   "source": [
    "from sklearn.linear_model import LogisticRegression\n",
    "lg_clf = LogisticRegression().fit(X_train, y_train)"
   ]
  },
  {
   "cell_type": "code",
   "execution_count": 15,
   "id": "ee28db07",
   "metadata": {},
   "outputs": [
    {
     "name": "stdout",
     "output_type": "stream",
     "text": [
      "LogisticRegression :recall: 0.6625, precision: 0.6463,F1: 0.6625, accuracy: 0.6267, AUC: 0.6241\n"
     ]
    }
   ],
   "source": [
    "lg_acc = accuracy_score(y_test,lg_clf.predict(X_test))\n",
    "lg_auc = roc_auc_score(y_test,lg_clf.predict(X_test))\n",
    "lg_precision = precision_score(y_test,lg_clf.predict(X_test))\n",
    "lg_recall = recall_score(y_test,lg_clf.predict(X_test))\n",
    "lg_f1 = recall_score(y_test,lg_clf.predict(X_test))\n",
    "print('LogisticRegression :recall: {:.4f}, precision: {:.4f},F1: {:.4f}, accuracy: {:.4f}, AUC: {:.4f}'.format(\n",
    "        lg_recall, lg_precision, lg_f1, lg_acc, lg_auc))"
   ]
  },
  {
   "cell_type": "code",
   "execution_count": 20,
   "id": "1d0e1f59",
   "metadata": {},
   "outputs": [],
   "source": [
    "from sklearn.tree import DecisionTreeClassifier  \n",
    "tree_clf = DecisionTreeClassifier().fit(X_train, y_train)"
   ]
  },
  {
   "cell_type": "code",
   "execution_count": 21,
   "id": "78bf51a0",
   "metadata": {},
   "outputs": [
    {
     "name": "stdout",
     "output_type": "stream",
     "text": [
      "DecisionTreeClassifier :recall: 0.6500, precision: 0.6933,F1: 0.6500, accuracy: 0.6600, AUC: 0.6607\n"
     ]
    }
   ],
   "source": [
    "tree_acc = accuracy_score(y_test,tree_clf.predict(X_test))\n",
    "tree_auc = roc_auc_score(y_test,tree_clf.predict(X_test))\n",
    "tree_precision = precision_score(y_test,tree_clf.predict(X_test))\n",
    "tree_recall = recall_score(y_test,tree_clf.predict(X_test))\n",
    "tree_f1 = recall_score(y_test,tree_clf.predict(X_test))\n",
    "print('DecisionTreeClassifier :recall: {:.4f}, precision: {:.4f},F1: {:.4f}, accuracy: {:.4f}, AUC: {:.4f}'.format(\n",
    "        tree_recall, tree_precision, tree_f1, tree_acc, tree_auc))"
   ]
  },
  {
   "cell_type": "code",
   "execution_count": 22,
   "id": "e55ab9f7",
   "metadata": {},
   "outputs": [],
   "source": [
    "from sklearn.ensemble import RandomForestClassifier \n",
    "rftree_clf = RandomForestClassifier().fit(X_train, y_train)"
   ]
  },
  {
   "cell_type": "code",
   "execution_count": 23,
   "id": "4b700cab",
   "metadata": {},
   "outputs": [
    {
     "name": "stdout",
     "output_type": "stream",
     "text": [
      "RandomForestClassifier :recall: 0.8500, precision: 0.7640,F1: 0.8500, accuracy: 0.7800, AUC: 0.7750\n"
     ]
    }
   ],
   "source": [
    "rftree_acc = accuracy_score(y_test,rftree_clf.predict(X_test))\n",
    "rftree_auc = roc_auc_score(y_test,rftree_clf.predict(X_test))\n",
    "rftree_precision = precision_score(y_test,rftree_clf.predict(X_test))\n",
    "rftree_recall = recall_score(y_test,rftree_clf.predict(X_test))\n",
    "rftree_f1 = recall_score(y_test,rftree_clf.predict(X_test))\n",
    "print('RandomForestClassifier :recall: {:.4f}, precision: {:.4f},F1: {:.4f}, accuracy: {:.4f}, AUC: {:.4f}'.format(\n",
    "        rftree_recall, rftree_precision, rftree_f1, rftree_acc, rftree_auc))"
   ]
  },
  {
   "cell_type": "markdown",
   "id": "34bb4732",
   "metadata": {},
   "source": []
  }
 ],
 "metadata": {
  "kernelspec": {
   "display_name": "Python 3",
   "language": "python",
   "name": "python3"
  },
  "language_info": {
   "codemirror_mode": {
    "name": "ipython",
    "version": 3
   },
   "file_extension": ".py",
   "mimetype": "text/x-python",
   "name": "python",
   "nbconvert_exporter": "python",
   "pygments_lexer": "ipython3",
   "version": "3.6.8"
  }
 },
 "nbformat": 4,
 "nbformat_minor": 5
}
