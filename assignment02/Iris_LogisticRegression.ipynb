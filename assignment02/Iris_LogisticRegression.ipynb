{
 "cells": [
  {
   "cell_type": "code",
   "execution_count": 10,
   "id": "5974fe61",
   "metadata": {},
   "outputs": [],
   "source": [
    "import matplotlib.pyplot as plt\n",
    "import pandas as pd\n",
    "import numpy as np"
   ]
  },
  {
   "cell_type": "code",
   "execution_count": 11,
   "id": "28373d3b",
   "metadata": {},
   "outputs": [],
   "source": [
    "# Use the Iris dataset\n",
    "from sklearn.datasets import load_iris\n",
    "iris = load_iris()"
   ]
  },
  {
   "cell_type": "code",
   "execution_count": 12,
   "id": "2be77b54",
   "metadata": {},
   "outputs": [
    {
     "name": "stdout",
     "output_type": "stream",
     "text": [
      "[0 0 0 0 0 0 0 0 0 0 0 0 0 0 0 0 0 0 0 0 0 0 0 0 0 0 0 0 0 0 0 0 0 0 0 0 0\n",
      " 0 0 0 0 0 0 0 0 0 0 0 0 0 1 1 1 1 1 1 1 1 1 1 1 1 1 1 1 1 1 1 1 1 1 1 1 1\n",
      " 1 1 1 1 1 1 1 1 1 1 1 1 1 1 1 1 1 1 1 1 1 1 1 1 1 1 2 2 2 2 2 2 2 2 2 2 2\n",
      " 2 2 2 2 2 2 2 2 2 2 2 2 2 2 2 2 2 2 2 2 2 2 2 2 2 2 2 2 2 2 2 2 2 2 2 2 2\n",
      " 2 2]\n"
     ]
    }
   ],
   "source": [
    "print(iris.target)"
   ]
  },
  {
   "cell_type": "code",
   "execution_count": 13,
   "id": "a32960f0",
   "metadata": {},
   "outputs": [],
   "source": [
    "# Using the Scikit-Learn Library, train the Logistic Regression model using the following\n",
    "# 1.All six cases of using two features at a time.\n",
    "# 2.All four cases of using three features at a time.\n",
    "# 3.The one case of using all features at once.\n",
    "cases_list = [[0,1],[0,2],[0,3],[1,2],[1,3],[2,3], # six cases of using two features\n",
    "             [0,1,2],[0,2,3],[0,1,3],[1,2,3],      # four cases of using three features\n",
    "             [0,1,2,3]]                            # one case of using all features "
   ]
  },
  {
   "cell_type": "code",
   "execution_count": 24,
   "id": "dffe3d39",
   "metadata": {},
   "outputs": [],
   "source": [
    "from sklearn.model_selection import train_test_split\n",
    "from sklearn.preprocessing import StandardScaler\n",
    "from sklearn.linear_model import LogisticRegression\n",
    "from sklearn.metrics import accuracy_score"
   ]
  },
  {
   "cell_type": "code",
   "execution_count": 67,
   "id": "95528a71",
   "metadata": {},
   "outputs": [],
   "source": [
    "test_accurcy_list = []"
   ]
  },
  {
   "cell_type": "code",
   "execution_count": 68,
   "id": "b4cf4931",
   "metadata": {
    "scrolled": true
   },
   "outputs": [],
   "source": [
    "for cases in cases_list:\n",
    "    x = iris.data[:,cases]\n",
    "    y = iris.target\n",
    "    x_train, x_test, y_train, y_test = train_test_split(x, y, test_size=0.2, random_state=0)\n",
    "\n",
    "\n",
    "    lr_classifier = LogisticRegression(max_iter=1000,C=1, random_state=0, solver='liblinear')\n",
    "    lr_classifier.fit(x_train, y_train)\n",
    "    y_pred = lr_classifier.predict(x_test)\n",
    "    test_accurcy = accuracy_score(y_test, y_pred)\n",
    "    test_accurcy_list.append(test_accurcy)"
   ]
  },
  {
   "cell_type": "code",
   "execution_count": 69,
   "id": "3336ca9d",
   "metadata": {},
   "outputs": [
    {
     "data": {
      "text/plain": [
       "[0.6,\n",
       " 0.8333333333333334,\n",
       " 0.7666666666666667,\n",
       " 0.7,\n",
       " 0.8,\n",
       " 0.7,\n",
       " 0.8333333333333334,\n",
       " 0.9333333333333333,\n",
       " 0.8666666666666667,\n",
       " 0.9333333333333333,\n",
       " 0.9666666666666667]"
      ]
     },
     "execution_count": 69,
     "metadata": {},
     "output_type": "execute_result"
    }
   ],
   "source": [
    "test_accurcy_list"
   ]
  },
  {
   "cell_type": "code",
   "execution_count": 72,
   "id": "417be170",
   "metadata": {},
   "outputs": [],
   "source": [
    "# Summarize the results and draw them."
   ]
  },
  {
   "cell_type": "markdown",
   "id": "11bdaf27",
   "metadata": {},
   "source": [
    "- For these 11 cases, we found that when the training data, the number of iterations(1000) and parameter C(1) were fixed, the last case (all the features were selected) obtained the best results, and AUC reached 0.96\n",
    "- According to the document, liblinear internally uses the coordinate axis descent method to iteratively optimize the loss function. Due to the small amount of iris data, liblinear is more applicable"
   ]
  },
  {
   "cell_type": "code",
   "execution_count": 73,
   "id": "92ea3781",
   "metadata": {},
   "outputs": [
    {
     "data": {
      "image/png": "[encoded data removed]",
      "text/plain": [
       "<Figure size 864x432 with 1 Axes>"
      ]
     },
     "metadata": {
      "needs_background": "light"
     },
     "output_type": "display_data"
    }
   ],
   "source": [
    "# Play with both L1 and L2 regularization and vary the regularization parameter C.\n",
    "x = iris.data[:,[1,3]]\n",
    "y = iris.target\n",
    "x_train, x_test, y_train, y_test = train_test_split(x, y, test_size=0.2, random_state=0)\n",
    "\n",
    "\n",
    "l1_train_predict = []\n",
    "l2_train_predict = []\n",
    "\n",
    "l1_test_predict = []\n",
    "l2_test_predict = []\n",
    "\n",
    "for c in np.linspace(0.01, 2, 50) :\n",
    "    lr_l1 = LogisticRegression(penalty=\"l1\", C=c, solver=\"liblinear\", max_iter=1000)\n",
    "    lr_l2 = LogisticRegression(penalty='l2', C=c, solver='liblinear', max_iter=1000)\n",
    "    \n",
    "    # The training model records the performance of L1 regularization model on the training set and test set\n",
    "    lr_l1.fit(x_train, y_train)\n",
    "    l1_train_predict.append(accuracy_score(lr_l1.predict(x_train), y_train))\n",
    "    l1_test_predict.append(accuracy_score(lr_l1.predict(x_test), y_test))\n",
    "    \n",
    "    # The training model records the performance of L2 regularization model on the training set and test set\n",
    "    lr_l2.fit(x_train, y_train)\n",
    "    l2_train_predict.append(accuracy_score(lr_l2.predict(x_train), y_train))\n",
    "    l2_test_predict.append(accuracy_score(lr_l2.predict(x_test), y_test))\n",
    "    \n",
    "data = [l1_train_predict, l2_train_predict, l1_test_predict, l2_test_predict]\n",
    "label = ['l1_train', 'l2_train', 'l1_test', \"l2_test\"]\n",
    "color = ['red', 'green', 'orange', 'blue']\n",
    "\n",
    "plt.figure(figsize=(12, 6))\n",
    "for i in range(4) :\n",
    "    plt.plot(np.linspace(0.01, 2, 50), data[i], label=label[i], color=color[i])\n",
    "\n",
    "plt.legend(loc=\"best\")\n",
    "plt.show()\n"
   ]
  },
  {
   "cell_type": "code",
   "execution_count": 74,
   "id": "9723e1fb",
   "metadata": {},
   "outputs": [],
   "source": [
    "# 6.Discuss your findings. Does using more dimensions help when trying to classify the data in this dataset? \n",
    "#  How important is regularization in these cases?"
   ]
  },
  {
   "cell_type": "markdown",
   "id": "ab4887a0",
   "metadata": {},
   "source": [
    "- The use of more dimension data will really help the training effect\n",
    "- It can be seen that, at least in our iris dataset, the results of the two regularization are not very different. However, with the gradual increase of C, the intensity of regularization becomes smaller and smaller. The performance of the model in the training set and test set shows an upward trend. Until C = 0.8, the performance in the training set is still rising, but the performance of the model in the unknown data set begins to decline. At this time, there is over fitting. We can think that it would be better to set C to 0.9. In actual use, L2 regularization is basically used by default. If you feel that the effect of the model is not good, try L1"
   ]
  },
  {
   "cell_type": "code",
   "execution_count": null,
   "id": "20b5aece",
   "metadata": {},
   "outputs": [],
   "source": []
  }
 ],
 "metadata": {
  "kernelspec": {
   "display_name": "Python 3",
   "language": "python",
   "name": "python3"
  },
  "language_info": {
   "codemirror_mode": {
    "name": "ipython",
    "version": 3
   },
   "file_extension": ".py",
   "mimetype": "text/x-python",
   "name": "python",
   "nbconvert_exporter": "python",
   "pygments_lexer": "ipython3",
   "version": "3.6.8"
  }
 },
 "nbformat": 4,
 "nbformat_minor": 5
}
