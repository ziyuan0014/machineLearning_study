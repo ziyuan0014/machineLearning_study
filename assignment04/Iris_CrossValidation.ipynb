{
 "cells": [
  {
   "cell_type": "markdown",
   "id": "b3ea853e",
   "metadata": {},
   "source": [
    "Create a notebook that replicates and implements at least four different cross-validation methods on the iris dataset."
   ]
  },
  {
   "cell_type": "code",
   "execution_count": 2,
   "id": "867dcb6c",
   "metadata": {},
   "outputs": [],
   "source": [
    "import pandas as pd\n",
    "import numpy as np"
   ]
  },
  {
   "cell_type": "code",
   "execution_count": 3,
   "id": "46131ee0",
   "metadata": {},
   "outputs": [],
   "source": [
    "# use the iris dataset\n",
    "from sklearn.datasets import load_iris\n",
    "iris = load_iris()\n",
    "X = iris.data\n",
    "y = iris.target\n",
    "#print(type(iris_data))  <class 'numpy.ndarray'>"
   ]
  },
  {
   "cell_type": "markdown",
   "id": "c1835f2c",
   "metadata": {},
   "source": [
    "## Hold-Out Method"
   ]
  },
  {
   "cell_type": "markdown",
   "id": "ff11e3b9",
   "metadata": {},
   "source": [
    "将原始数据随机分为两组,一组做为训练集,一组做为验证集,利用训练集训练分类器,然后利用验证集验证模型,记录最后的分类准确率\n",
    "- 处理简单,只需随机把原始数据分为两组即可\n",
    "- 没有达到交叉的思想，得到的结果其实并不具有说服性."
   ]
  },
  {
   "cell_type": "code",
   "execution_count": 4,
   "id": "6747c8a5",
   "metadata": {},
   "outputs": [],
   "source": [
    "from sklearn.model_selection import train_test_split\n",
    "from sklearn import svm"
   ]
  },
  {
   "cell_type": "code",
   "execution_count": 5,
   "id": "cc4eaf3a",
   "metadata": {},
   "outputs": [
    {
     "data": {
      "text/plain": [
       "0.9666666666666667"
      ]
     },
     "execution_count": 5,
     "metadata": {},
     "output_type": "execute_result"
    }
   ],
   "source": [
    "X_train, X_test, y_train, y_test = train_test_split(X, y, test_size=0.4, random_state=0)\n",
    "clf = svm.SVC(kernel='linear', C=1, random_state=0)\n",
    "clf = svm.SVC(kernel='linear', C=1).fit(X_train, y_train)\n",
    "clf.score(X_test, y_test)"
   ]
  },
  {
   "cell_type": "markdown",
   "id": "599b2cf4",
   "metadata": {},
   "source": [
    "## Double Cross-Validation(2-fold Cross Validation)"
   ]
  },
  {
   "cell_type": "markdown",
   "id": "be3b42fa",
   "metadata": {},
   "source": [
    "将数据集分成两个相等大小的子集，进行两回合的分类器训练。在第一回合中，一个子集作为training set，另一个便作为testing set；在第二回合中，则将training set与testing set对换后，再次训练分类器。\n",
    "- training set样本数太少，通常不足以代表母体样本的分布\n",
    "- 分子集的变异度大，往往无法达到“实验过程必须可以被复制”的要求。"
   ]
  },
  {
   "cell_type": "code",
   "execution_count": 6,
   "id": "41880540",
   "metadata": {},
   "outputs": [],
   "source": [
    "X_train, X_test, y_train, y_test = train_test_split(X, y, test_size=0.5, random_state=0)\n",
    "clf = svm.SVC(kernel='linear', C=1, random_state=0)"
   ]
  },
  {
   "cell_type": "code",
   "execution_count": 7,
   "id": "76102acb",
   "metadata": {},
   "outputs": [
    {
     "name": "stdout",
     "output_type": "stream",
     "text": [
      "0.98\n"
     ]
    }
   ],
   "source": [
    "# 第一轮\n",
    "clf = svm.SVC(kernel='linear', C=1).fit(X_train, y_train)\n",
    "score1 = clf.score(X_test, y_test)\n",
    "# 第二轮\n",
    "clf = svm.SVC(kernel='linear', C=1).fit(X_test, y_test)\n",
    "score2 = clf.score(X_train, y_train)\n",
    "score = (score1+score2)/2\n",
    "print(score)"
   ]
  },
  {
   "cell_type": "markdown",
   "id": "55d837ae",
   "metadata": {},
   "source": [
    "## k-fold cross-validation"
   ]
  },
  {
   "cell_type": "markdown",
   "id": "c1a0cb91",
   "metadata": {},
   "source": [
    "k折交叉验证，初始采样分割成k个子样本，一个单独的子样本被保留作为验证模型的数据，其他k-1个样本用来训练。交叉验证重复k次，每个子样本验证一次，平均k次的结果或者使用其它结合方式，最终得到一个单一的估测值。\n",
    "- k-cv可以有效的避免过学习以及欠学习状态的发生,最后得到的结果也比较具有说服性.\n",
    "- 不能用于不平衡的数据集,不适合时间序列数据"
   ]
  },
  {
   "cell_type": "code",
   "execution_count": 8,
   "id": "4e7378c8",
   "metadata": {},
   "outputs": [
    {
     "name": "stdout",
     "output_type": "stream",
     "text": [
      "0.9800000000000001\n"
     ]
    }
   ],
   "source": [
    "# 5-fold cross-validation\n",
    "from sklearn.model_selection import cross_val_score\n",
    "clf = svm.SVC(kernel='linear', C=1, random_state=0)\n",
    "scores = cross_val_score(clf, X, y, cv=5)\n",
    "# print(scores)  # [0.96666667 1.         0.96666667 0.96666667 1.        ]\n",
    "score = scores.mean()\n",
    "print(score)"
   ]
  },
  {
   "cell_type": "code",
   "execution_count": 9,
   "id": "4f998d3f",
   "metadata": {},
   "outputs": [
    {
     "name": "stdout",
     "output_type": "stream",
     "text": [
      "0.9733333333333334\n"
     ]
    }
   ],
   "source": [
    "# 10-fold cross-validation\n",
    "from sklearn.model_selection import cross_val_score\n",
    "clf = svm.SVC(kernel='linear', C=1, random_state=0)\n",
    "scores = cross_val_score(clf, X, y, cv=10)\n",
    "score = scores.mean()\n",
    "print(score)"
   ]
  },
  {
   "cell_type": "markdown",
   "id": "bf042015",
   "metadata": {},
   "source": [
    "## StratifiedGroupKFold"
   ]
  },
  {
   "cell_type": "markdown",
   "id": "aaf3905e",
   "metadata": {},
   "source": [
    "K-Fold 交叉验证的增强版本，主要用于不平衡的数据集。每个折叠将具有与整个数据集中相同的目标变量实例比率。"
   ]
  },
  {
   "cell_type": "code",
   "execution_count": 11,
   "id": "426a2214",
   "metadata": {},
   "outputs": [
    {
     "name": "stdout",
     "output_type": "stream",
     "text": [
      "0.9733333333333334\n"
     ]
    }
   ],
   "source": [
    "from sklearn.model_selection import cross_val_score,StratifiedKFold\n",
    "\n",
    "clf = svm.SVC(kernel='linear', C=1, random_state=0)\n",
    "stratifiedkf=StratifiedKFold(n_splits=10)\n",
    "scores = cross_val_score(clf,X,y,cv=stratifiedkf)\n",
    "score = scores.mean()\n",
    "print(score)"
   ]
  },
  {
   "cell_type": "markdown",
   "id": "899094ed",
   "metadata": {},
   "source": [
    "## Leave P Out Cross Validation"
   ]
  },
  {
   "cell_type": "markdown",
   "id": "44517786",
   "metadata": {},
   "source": [
    "只使用原本样本中的P项来当做验证数据，而剩余的则留下来当做训练数据。重复这个过程，直到整个数据集在 p-样本和 n-p 训练样本的验证集上被划分。\n",
    "- 所有数据样本都用作训练和验证样本。\n",
    "- 计算时间长，不适合不平衡数据集"
   ]
  },
  {
   "cell_type": "code",
   "execution_count": 12,
   "id": "f5e92687",
   "metadata": {},
   "outputs": [
    {
     "name": "stdout",
     "output_type": "stream",
     "text": [
      "0.9796420581655481\n"
     ]
    }
   ],
   "source": [
    "from sklearn.model_selection import LeavePOut,cross_val_score\n",
    "lpo=LeavePOut(p=2)\n",
    "lpo.get_n_splits(X)\n",
    "clf = svm.SVC(kernel='linear', C=1, random_state=0)\n",
    "scores = cross_val_score(clf,X,y,cv=lpo)\n",
    "score = scores.mean()\n",
    "# print(scores)\n",
    "print(score)"
   ]
  },
  {
   "cell_type": "markdown",
   "id": "c82ece68",
   "metadata": {},
   "source": [
    "## Shuffle Split"
   ]
  },
  {
   "cell_type": "markdown",
   "id": "a5139ea1",
   "metadata": {},
   "source": [
    "选择一部分数据做训练集，选择一部分做验证集，训练集+验证机的占比之和可以不为100%。\n",
    "- 我们可以自由使用训练和验证集的大小，可任意以选择重复的次数\n",
    "- 不适合不平衡的数据集"
   ]
  },
  {
   "cell_type": "code",
   "execution_count": 13,
   "id": "48da8863",
   "metadata": {},
   "outputs": [
    {
     "name": "stdout",
     "output_type": "stream",
     "text": [
      "0.9796420581655481\n"
     ]
    }
   ],
   "source": [
    "from sklearn.model_selection import ShuffleSplit,cross_val_score\n",
    "clf = svm.SVC(kernel='linear', C=1, random_state=0)\n",
    "shuffle_split=ShuffleSplit(test_size=0.2,train_size=0.6,n_splits=10)\n",
    "scores = cross_val_score(clf,X,y,cv=lpo)\n",
    "score = scores.mean()\n",
    "print(score)"
   ]
  },
  {
   "cell_type": "code",
   "execution_count": null,
   "id": "f1b7990d",
   "metadata": {},
   "outputs": [],
   "source": []
  },
  {
   "cell_type": "markdown",
   "id": "62c9f5f0",
   "metadata": {},
   "source": [
    "Then pick two cross-validation methods to compare the performance of your best-performing SVM, Decision tree, AdaBoost, and Random Forest models on the breast cancer data from HW5. Choose a suitable metric for performance evaluation. "
   ]
  },
  {
   "cell_type": "code",
   "execution_count": 3,
   "id": "11c1225c",
   "metadata": {},
   "outputs": [],
   "source": [
    "# ues the breast cancer data\n",
    "pd_data = pd.read_csv('wdbc.data', sep=',',header=None)"
   ]
  },
  {
   "cell_type": "code",
   "execution_count": 4,
   "id": "69ef0cf4",
   "metadata": {},
   "outputs": [
    {
     "data": {
      "text/html": [
       "<div>\n",
       "<style scoped>\n",
       "    .dataframe tbody tr th:only-of-type {\n",
       "        vertical-align: middle;\n",
       "    }\n",
       "\n",
       "    .dataframe tbody tr th {\n",
       "        vertical-align: top;\n",
       "    }\n",
       "\n",
       "    .dataframe thead th {\n",
       "        text-align: right;\n",
       "    }\n",
       "</style>\n",
       "<table border=\"1\" class=\"dataframe\">\n",
       "  <thead>\n",
       "    <tr style=\"text-align: right;\">\n",
       "      <th></th>\n",
       "      <th>0</th>\n",
       "      <th>1</th>\n",
       "      <th>2</th>\n",
       "      <th>3</th>\n",
       "      <th>4</th>\n",
       "      <th>5</th>\n",
       "      <th>6</th>\n",
       "      <th>7</th>\n",
       "      <th>8</th>\n",
       "      <th>9</th>\n",
       "      <th>...</th>\n",
       "      <th>22</th>\n",
       "      <th>23</th>\n",
       "      <th>24</th>\n",
       "      <th>25</th>\n",
       "      <th>26</th>\n",
       "      <th>27</th>\n",
       "      <th>28</th>\n",
       "      <th>29</th>\n",
       "      <th>30</th>\n",
       "      <th>31</th>\n",
       "    </tr>\n",
       "  </thead>\n",
       "  <tbody>\n",
       "    <tr>\n",
       "      <th>0</th>\n",
       "      <td>842302</td>\n",
       "      <td>M</td>\n",
       "      <td>17.99</td>\n",
       "      <td>10.38</td>\n",
       "      <td>122.80</td>\n",
       "      <td>1001.0</td>\n",
       "      <td>0.11840</td>\n",
       "      <td>0.27760</td>\n",
       "      <td>0.3001</td>\n",
       "      <td>0.14710</td>\n",
       "      <td>...</td>\n",
       "      <td>25.38</td>\n",
       "      <td>17.33</td>\n",
       "      <td>184.60</td>\n",
       "      <td>2019.0</td>\n",
       "      <td>0.1622</td>\n",
       "      <td>0.6656</td>\n",
       "      <td>0.7119</td>\n",
       "      <td>0.2654</td>\n",
       "      <td>0.4601</td>\n",
       "      <td>0.11890</td>\n",
       "    </tr>\n",
       "    <tr>\n",
       "      <th>1</th>\n",
       "      <td>842517</td>\n",
       "      <td>M</td>\n",
       "      <td>20.57</td>\n",
       "      <td>17.77</td>\n",
       "      <td>132.90</td>\n",
       "      <td>1326.0</td>\n",
       "      <td>0.08474</td>\n",
       "      <td>0.07864</td>\n",
       "      <td>0.0869</td>\n",
       "      <td>0.07017</td>\n",
       "      <td>...</td>\n",
       "      <td>24.99</td>\n",
       "      <td>23.41</td>\n",
       "      <td>158.80</td>\n",
       "      <td>1956.0</td>\n",
       "      <td>0.1238</td>\n",
       "      <td>0.1866</td>\n",
       "      <td>0.2416</td>\n",
       "      <td>0.1860</td>\n",
       "      <td>0.2750</td>\n",
       "      <td>0.08902</td>\n",
       "    </tr>\n",
       "    <tr>\n",
       "      <th>2</th>\n",
       "      <td>84300903</td>\n",
       "      <td>M</td>\n",
       "      <td>19.69</td>\n",
       "      <td>21.25</td>\n",
       "      <td>130.00</td>\n",
       "      <td>1203.0</td>\n",
       "      <td>0.10960</td>\n",
       "      <td>0.15990</td>\n",
       "      <td>0.1974</td>\n",
       "      <td>0.12790</td>\n",
       "      <td>...</td>\n",
       "      <td>23.57</td>\n",
       "      <td>25.53</td>\n",
       "      <td>152.50</td>\n",
       "      <td>1709.0</td>\n",
       "      <td>0.1444</td>\n",
       "      <td>0.4245</td>\n",
       "      <td>0.4504</td>\n",
       "      <td>0.2430</td>\n",
       "      <td>0.3613</td>\n",
       "      <td>0.08758</td>\n",
       "    </tr>\n",
       "    <tr>\n",
       "      <th>3</th>\n",
       "      <td>84348301</td>\n",
       "      <td>M</td>\n",
       "      <td>11.42</td>\n",
       "      <td>20.38</td>\n",
       "      <td>77.58</td>\n",
       "      <td>386.1</td>\n",
       "      <td>0.14250</td>\n",
       "      <td>0.28390</td>\n",
       "      <td>0.2414</td>\n",
       "      <td>0.10520</td>\n",
       "      <td>...</td>\n",
       "      <td>14.91</td>\n",
       "      <td>26.50</td>\n",
       "      <td>98.87</td>\n",
       "      <td>567.7</td>\n",
       "      <td>0.2098</td>\n",
       "      <td>0.8663</td>\n",
       "      <td>0.6869</td>\n",
       "      <td>0.2575</td>\n",
       "      <td>0.6638</td>\n",
       "      <td>0.17300</td>\n",
       "    </tr>\n",
       "    <tr>\n",
       "      <th>4</th>\n",
       "      <td>84358402</td>\n",
       "      <td>M</td>\n",
       "      <td>20.29</td>\n",
       "      <td>14.34</td>\n",
       "      <td>135.10</td>\n",
       "      <td>1297.0</td>\n",
       "      <td>0.10030</td>\n",
       "      <td>0.13280</td>\n",
       "      <td>0.1980</td>\n",
       "      <td>0.10430</td>\n",
       "      <td>...</td>\n",
       "      <td>22.54</td>\n",
       "      <td>16.67</td>\n",
       "      <td>152.20</td>\n",
       "      <td>1575.0</td>\n",
       "      <td>0.1374</td>\n",
       "      <td>0.2050</td>\n",
       "      <td>0.4000</td>\n",
       "      <td>0.1625</td>\n",
       "      <td>0.2364</td>\n",
       "      <td>0.07678</td>\n",
       "    </tr>\n",
       "  </tbody>\n",
       "</table>\n",
       "<p>5 rows × 32 columns</p>\n",
       "</div>"
      ],
      "text/plain": [
       "         0  1      2      3       4       5        6        7       8   \\\n",
       "0    842302  M  17.99  10.38  122.80  1001.0  0.11840  0.27760  0.3001   \n",
       "1    842517  M  20.57  17.77  132.90  1326.0  0.08474  0.07864  0.0869   \n",
       "2  84300903  M  19.69  21.25  130.00  1203.0  0.10960  0.15990  0.1974   \n",
       "3  84348301  M  11.42  20.38   77.58   386.1  0.14250  0.28390  0.2414   \n",
       "4  84358402  M  20.29  14.34  135.10  1297.0  0.10030  0.13280  0.1980   \n",
       "\n",
       "        9   ...     22     23      24      25      26      27      28      29  \\\n",
       "0  0.14710  ...  25.38  17.33  184.60  2019.0  0.1622  0.6656  0.7119  0.2654   \n",
       "1  0.07017  ...  24.99  23.41  158.80  1956.0  0.1238  0.1866  0.2416  0.1860   \n",
       "2  0.12790  ...  23.57  25.53  152.50  1709.0  0.1444  0.4245  0.4504  0.2430   \n",
       "3  0.10520  ...  14.91  26.50   98.87   567.7  0.2098  0.8663  0.6869  0.2575   \n",
       "4  0.10430  ...  22.54  16.67  152.20  1575.0  0.1374  0.2050  0.4000  0.1625   \n",
       "\n",
       "       30       31  \n",
       "0  0.4601  0.11890  \n",
       "1  0.2750  0.08902  \n",
       "2  0.3613  0.08758  \n",
       "3  0.6638  0.17300  \n",
       "4  0.2364  0.07678  \n",
       "\n",
       "[5 rows x 32 columns]"
      ]
     },
     "execution_count": 4,
     "metadata": {},
     "output_type": "execute_result"
    }
   ],
   "source": [
    "pd_data.head()"
   ]
  },
  {
   "cell_type": "code",
   "execution_count": 9,
   "id": "3fcfde14",
   "metadata": {},
   "outputs": [],
   "source": [
    "X = pd_data.iloc[:, 2:].values\n",
    "Y =  pd_data.iloc[:,1].values\n",
    "from sklearn.model_selection import train_test_split\n",
    "x_train, x_test, y_train, y_test = train_test_split(X, Y, test_size=0.2, random_state=0)"
   ]
  },
  {
   "cell_type": "code",
   "execution_count": 8,
   "id": "db002a70",
   "metadata": {},
   "outputs": [],
   "source": [
    "# import the package\n",
    "from sklearn.svm import SVC     # SVM\n",
    "from sklearn.tree import DecisionTreeClassifier   # Decision tree\n",
    "from sklearn.ensemble import AdaBoostClassifier  # AdaBoost\n",
    "from sklearn.ensemble import RandomForestClassifier  # Random Forest "
   ]
  },
  {
   "cell_type": "code",
   "execution_count": 24,
   "id": "ea7d68b6",
   "metadata": {},
   "outputs": [],
   "source": [
    "# find the best-performing by GridSearchCV\n",
    "from sklearn.model_selection import GridSearchCV"
   ]
  },
  {
   "cell_type": "code",
   "execution_count": 29,
   "id": "8958d8ad",
   "metadata": {},
   "outputs": [
    {
     "name": "stdout",
     "output_type": "stream",
     "text": [
      "Parameters:{'kernel': ['linear', 'rbf'], 'C': [0.1, 0.2, 0.3, 0.4, 0.5, 0.6, 0.7, 0.8, 0.9, 1]}\n",
      "Test set score:0.95\n",
      "Best parameters for DecisionTree:{'C': 0.2, 'kernel': 'linear'}\n"
     ]
    }
   ],
   "source": [
    "# list the param for SVM\n",
    "param_grid = {\"kernel\":[\"linear\",\"rbf\"],\n",
    "             \"C\":[0.1,0.2,0.3,0.4,0.5,0.6,0.7,0.8,0.9,1]}\n",
    "print(\"Parameters:{}\".format(param_grid))\n",
    "\n",
    "grid_search = GridSearchCV(SVC(),param_grid) \n",
    "grid_search.fit(x_train,y_train) \n",
    "print(\"Test set score:{:.2f}\".format(grid_search.score(x_test,y_test)))\n",
    "print(\"Best parameters for DecisionTree:{}\".format(grid_search.best_params_))"
   ]
  },
  {
   "cell_type": "code",
   "execution_count": 25,
   "id": "57267e43",
   "metadata": {},
   "outputs": [
    {
     "name": "stdout",
     "output_type": "stream",
     "text": [
      "Parameters:{'criterion': ['gini', 'entropy'], 'max_depth': [1, 2, 3, 4, 5, 6]}\n",
      "Test set score:0.94\n",
      "Best parameters for DecisionTree:{'criterion': 'entropy', 'max_depth': 4}\n"
     ]
    }
   ],
   "source": [
    "# list the param for DecisionTree\n",
    "param_grid = {\"criterion\":[\"gini\",\"entropy\"],\n",
    "             \"max_depth\":[1,2,3,4,5,6]}\n",
    "print(\"Parameters:{}\".format(param_grid))\n",
    "\n",
    "grid_search = GridSearchCV(DecisionTreeClassifier(),param_grid) \n",
    "grid_search.fit(x_train,y_train) \n",
    "print(\"Test set score:{:.2f}\".format(grid_search.score(x_test,y_test)))\n",
    "print(\"Best parameters for DecisionTree:{}\".format(grid_search.best_params_))"
   ]
  },
  {
   "cell_type": "code",
   "execution_count": 27,
   "id": "78097949",
   "metadata": {},
   "outputs": [
    {
     "name": "stdout",
     "output_type": "stream",
     "text": [
      "Parameters:{'algorithm': ['SAMME', 'SAMME.R'], 'n_estimators': [10, 20, 30, 40, 50, 60, 70, 80, 90, 100]}\n",
      "Test set score:0.97\n",
      "Best parameters for AdaBoostClassifier:{'algorithm': 'SAMME', 'n_estimators': 40}\n"
     ]
    }
   ],
   "source": [
    "# list the param for AdaBoostClassifier\n",
    "param_grid = {\"algorithm\":[\"SAMME\",\"SAMME.R\"],\n",
    "             \"n_estimators\":[10,20,30,40,50,60,70,80,90,100]\n",
    "             }\n",
    "print(\"Parameters:{}\".format(param_grid))\n",
    "\n",
    "tree_clf = tree.DecisionTreeClassifier(criterion= 'entropy',max_depth=4)\n",
    "grid_search = GridSearchCV(AdaBoostClassifier(tree_clf),param_grid) \n",
    "grid_search.fit(x_train,y_train) \n",
    "print(\"Test set score:{:.2f}\".format(grid_search.score(x_test,y_test)))\n",
    "print(\"Best parameters for AdaBoostClassifier:{}\".format(grid_search.best_params_))"
   ]
  },
  {
   "cell_type": "code",
   "execution_count": 26,
   "id": "94452fab",
   "metadata": {},
   "outputs": [
    {
     "name": "stdout",
     "output_type": "stream",
     "text": [
      "Parameters:{'criterion': ['gini', 'entropy'], 'max_depth': [1, 2, 3, 4, 5, 6], 'oob_score': [True, False]}\n",
      "Test set score:0.96\n",
      "Best parameters for RandomForestClassifier:{'criterion': 'gini', 'max_depth': 6, 'oob_score': True}\n"
     ]
    }
   ],
   "source": [
    "# list the param for RandomForestClassifier\n",
    "param_grid = {\"criterion\":[\"gini\",\"entropy\"],\n",
    "             \"max_depth\":[1,2,3,4,5,6],\n",
    "             \"oob_score\":[True,False]\n",
    "             }\n",
    "print(\"Parameters:{}\".format(param_grid))\n",
    "\n",
    "grid_search = GridSearchCV(RandomForestClassifier(),param_grid) \n",
    "grid_search.fit(x_train,y_train) \n",
    "print(\"Test set score:{:.2f}\".format(grid_search.score(x_test,y_test)))\n",
    "print(\"Best parameters for RandomForestClassifier:{}\".format(grid_search.best_params_))"
   ]
  },
  {
   "cell_type": "code",
   "execution_count": 11,
   "id": "7611100f",
   "metadata": {},
   "outputs": [],
   "source": [
    " # pick the StratifiedGroupKFold and ShuffleSplit methods\n",
    "from sklearn.model_selection import cross_val_score,StratifiedKFold,ShuffleSplit"
   ]
  },
  {
   "cell_type": "code",
   "execution_count": 15,
   "id": "4d39d4d0",
   "metadata": {},
   "outputs": [],
   "source": [
    "# init the clf\n",
    "svm_clf = SVC(kernel='linear', C=0.2)\n",
    "tree_clf = DecisionTreeClassifier(criterion= 'entropy',max_depth=4)\n",
    "bdt_clf = AdaBoostClassifier(tree_clf,algorithm='SAMME',n_estimators=40)\n",
    "rf_clf = RandomForestClassifier(criterion= 'gini', max_depth=6, oob_score=True)"
   ]
  },
  {
   "cell_type": "code",
   "execution_count": 16,
   "id": "d8269c2e",
   "metadata": {},
   "outputs": [],
   "source": [
    "SGKFold_scores_list = []"
   ]
  },
  {
   "cell_type": "code",
   "execution_count": 17,
   "id": "bc5fe9f1",
   "metadata": {},
   "outputs": [],
   "source": [
    "# StratifiedGroupKFold\n",
    "stratifiedkf=StratifiedKFold(n_splits=10)\n",
    "\n",
    "scores = cross_val_score(svm_clf,X,Y,cv=stratifiedkf)\n",
    "SGKFold_scores_list.append(scores.mean())\n",
    "\n",
    "scores = cross_val_score(tree_clf,X,Y,cv=stratifiedkf)\n",
    "SGKFold_scores_list.append(scores.mean())\n",
    "\n",
    "scores = cross_val_score(bdt_clf,X,Y,cv=stratifiedkf)\n",
    "SGKFold_scores_list.append(scores.mean())\n",
    "\n",
    "scores = cross_val_score(rf_clf,X,Y,cv=stratifiedkf)\n",
    "SGKFold_scores_list.append(scores.mean())"
   ]
  },
  {
   "cell_type": "code",
   "execution_count": 18,
   "id": "01382099",
   "metadata": {},
   "outputs": [
    {
     "data": {
      "text/plain": [
       "[0.9507832080200501,\n",
       " 0.9385651629072681,\n",
       " 0.9771929824561403,\n",
       " 0.9648809523809524]"
      ]
     },
     "execution_count": 18,
     "metadata": {},
     "output_type": "execute_result"
    }
   ],
   "source": [
    "SGKFold_scores_list"
   ]
  },
  {
   "cell_type": "code",
   "execution_count": 19,
   "id": "5d7bab6a",
   "metadata": {},
   "outputs": [],
   "source": [
    "SSplit_scores_list = []"
   ]
  },
  {
   "cell_type": "code",
   "execution_count": 20,
   "id": "a2909b16",
   "metadata": {},
   "outputs": [],
   "source": [
    "# ShuffleSplit\n",
    "shuffle_split=ShuffleSplit(test_size=0.2,train_size=0.7,n_splits=10)\n",
    "\n",
    "scores = cross_val_score(svm_clf,X,Y,cv=shuffle_split)\n",
    "SSplit_scores_list.append(scores.mean())\n",
    "\n",
    "scores = cross_val_score(tree_clf,X,Y,cv=shuffle_split)\n",
    "SSplit_scores_list.append(scores.mean())\n",
    "\n",
    "scores = cross_val_score(bdt_clf,X,Y,cv=shuffle_split)\n",
    "SSplit_scores_list.append(scores.mean())\n",
    "\n",
    "scores = cross_val_score(rf_clf,X,Y,cv=shuffle_split)\n",
    "SSplit_scores_list.append(scores.mean())"
   ]
  },
  {
   "cell_type": "code",
   "execution_count": 22,
   "id": "5625d34f",
   "metadata": {},
   "outputs": [
    {
     "data": {
      "text/plain": [
       "[0.9438596491228071, 0.925438596491228, 0.9710526315789473, 0.9526315789473683]"
      ]
     },
     "execution_count": 22,
     "metadata": {},
     "output_type": "execute_result"
    }
   ],
   "source": [
    "SSplit_scores_list"
   ]
  },
  {
   "cell_type": "code",
   "execution_count": 24,
   "id": "3cd92d95",
   "metadata": {
    "scrolled": true
   },
   "outputs": [
    {
     "data": {
      "image/png": "[encoded data removed]",
      "text/plain": [
       "<Figure size 432x288 with 1 Axes>"
      ]
     },
     "metadata": {
      "needs_background": "light"
     },
     "output_type": "display_data"
    }
   ],
   "source": [
    "import matplotlib.pyplot as plt\n",
    "\n",
    "x_axis_data = ['SVM','DecisionTree','AdaBoost','RandomForest']\n",
    "plt.plot(x_axis_data, SGKFold_scores_list)\n",
    "plt.plot(x_axis_data, SSplit_scores_list)\n",
    "plt.xlabel('classifier model')\n",
    "plt.ylabel('cross-validation score')\n",
    "plt.show()"
   ]
  },
  {
   "cell_type": "code",
   "execution_count": null,
   "id": "90d54c6c",
   "metadata": {},
   "outputs": [],
   "source": [
    "# Refer: https://scikit-learn.org/stable/modules/cross_validation.html#cross-validation-and-model-selection"
   ]
  }
 ],
 "metadata": {
  "kernelspec": {
   "display_name": "Python 3",
   "language": "python",
   "name": "python3"
  },
  "language_info": {
   "codemirror_mode": {
    "name": "ipython",
    "version": 3
   },
   "file_extension": ".py",
   "mimetype": "text/x-python",
   "name": "python",
   "nbconvert_exporter": "python",
   "pygments_lexer": "ipython3",
   "version": "3.6.8"
  }
 },
 "nbformat": 4,
 "nbformat_minor": 5
}
